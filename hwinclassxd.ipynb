{
 "cells": [
  {
   "cell_type": "code",
   "execution_count": 37,
   "metadata": {},
   "outputs": [
    {
     "data": {
      "text/plain": [
       "[1, 10, 1, 10]"
      ]
     },
     "execution_count": 37,
     "metadata": {},
     "output_type": "execute_result"
    }
   ],
   "source": [
    "import random\n",
    "\n",
    "list1 = [random.randint(1, 10) for x in range(10)]\n",
    "\n",
    "list2 = [random.randint(1, 10) for x in range(10)]\n",
    "\n",
    "list3 = list1 + list2\n",
    "\n",
    "list4 = set(list3)\n",
    "\n",
    "list5 = []\n",
    "\n",
    "for num in list1:\n",
    "    if num in list2:\n",
    "        list5.append(num)\n",
    "\n",
    "list6 = list(set(list1) | set(list2))\n",
    "\n",
    "list7 = [min(list1), max(list1), min(list2), max(list2)]\n"
   ]
  },
  {
   "cell_type": "code",
   "execution_count": null,
   "metadata": {},
   "outputs": [],
   "source": [
    "list12 = [12, 'fsd']\n",
    "list13 = [x for x in range(5)]\n",
    "list14 = list(list12, list13)\n"
   ]
  }
 ],
 "metadata": {
  "kernelspec": {
   "display_name": "Python 3",
   "language": "python",
   "name": "python3"
  },
  "language_info": {
   "codemirror_mode": {
    "name": "ipython",
    "version": 3
   },
   "file_extension": ".py",
   "mimetype": "text/x-python",
   "name": "python",
   "nbconvert_exporter": "python",
   "pygments_lexer": "ipython3",
   "version": "3.11.4 (tags/v3.11.4:d2340ef, Jun  7 2023, 05:45:37) [MSC v.1934 64 bit (AMD64)]"
  },
  "orig_nbformat": 4,
  "vscode": {
   "interpreter": {
    "hash": "c261aea317cc0286b3b3261fbba9abdec21eaa57589985bb7a274bf54d6cc0a7"
   }
  }
 },
 "nbformat": 4,
 "nbformat_minor": 2
}

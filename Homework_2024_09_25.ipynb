{
 "cells": [
  {
   "cell_type": "markdown",
   "metadata": {},
   "source": [
    "### Сортировка файлов по размеру\n",
    "\n",
    "Напишите программу, которая сортирует файлы в данной директории по размеру (от меньшего к большему). Для этого неплохо было бы несколько файлов или создать вручную, если в директории с этой тетрадкой кроме нее ничего нет, либо перенести несколько случайных файлов в нее, после чего можно будет проверить работу кода. По итогу вы должны вывести список файлов директории с заданным ранее условием"
   ]
  },
  {
   "cell_type": "code",
   "execution_count": null,
   "metadata": {},
   "outputs": [],
   "source": [
    "directory_path = \"введите вашу директорию\"\n",
    "files = os.listdir(directory_path)\n",
    "files = [f for f in files if os.path.isfile(os.path.join(directory_path, f))]\n",
    "files.sort(key=lambda f: os.path.getsize(os.path.join(directory_path, f)))\n",
    "for f in files:\n",
    "    file_size = os.path.getsize(os.path.join(directory_path, f))\n",
    "    print(f\"{f}: {file_size} байт\")"
   ]
  },
  {
   "cell_type": "markdown",
   "metadata": {},
   "source": [
    "### Создание директорий\n",
    "\n",
    "Напишите программу, которая создает серию вложенных директорий с использованием цикла. Например, создать директорию \"А\", в которой будет лежать директория \"B\", в которой будет лежать директория \"C\" (названия директорий латиницей). В конце вы должны вывести, что содержится в каждой из этих директорий"
   ]
  },
  {
   "cell_type": "code",
   "execution_count": null,
   "metadata": {},
   "outputs": [],
   "source": [
    "import os\n",
    "base_dir = \"введите вашу директорию\"\n",
    "os.makedirs(os.path.join(base_dir, \"A\", \"B\", \"C\"), exist_ok=True)\n",
    "print(f\"Содержимое директории A: {os.listdir(os.path.join(base_dir, 'A'))}\")\n",
    "print(f\"Содержимое директории B: {os.listdir(os.path.join(base_dir, 'A', 'B'))}\")\n",
    "print(f\"Содержимое директории C: {os.listdir(os.path.join(base_dir, 'A', 'B', 'C'))}\")\n"
   ]
  },
  {
   "cell_type": "markdown",
   "metadata": {},
   "source": [
    "### Поиск файлов по расширению\n",
    "\n",
    "Напишите программу, которая выводит имена всех файлов с расширением, например, \".txt\" в определенной директории и всех поддиректориях"
   ]
  },
  {
   "cell_type": "code",
   "execution_count": null,
   "metadata": {},
   "outputs": [],
   "source": [
    "import os\n",
    "base_dir = \"введите вашу директорию\"\n",
    "file_extension = \".txt\"\n",
    "for root, dirs, files in os.walk(base_dir):\n",
    "    for file in files:\n",
    "        if file.endswith(file_extension):\n",
    "            print(os.path.join(root, file))"
   ]
  },
  {
   "cell_type": "markdown",
   "metadata": {},
   "source": [
    "### Получение информации о файле\n",
    "\n",
    "Напишите программу, которая выводит информацию о файле: имя, размер, дату модификации, тип файла (файл/директория)"
   ]
  },
  {
   "cell_type": "code",
   "execution_count": null,
   "metadata": {},
   "outputs": [],
   "source": [
    "import os\n",
    "import time\n",
    "path = \"введите путь к файлу\"\n",
    "if os.path.isfile(path):\n",
    "    file_type = \"Файл\"\n",
    "elif os.path.isdir(path):\n",
    "    file_type = \"Директория\"\n",
    "else:\n",
    "    file_type = \"Неизвестно\"\n",
    "\n",
    "file_name = os.path.basename(path)\n",
    "file_size = os.path.getsize(path)\n",
    "\n",
    "mod_time = time.ctime(os.path.getmtime(path))\n",
    "\n",
    "print(f\"Имя: {file_name}\")\n",
    "print(f\"Тип: {file_type}\")\n",
    "print(f\"Размер: {file_size} байт\")\n",
    "print(f\"Дата последней модификации: {mod_time}\")"
   ]
  },
  {
   "cell_type": "markdown",
   "metadata": {},
   "source": [
    "### Проверка e-mail адреса\n",
    "\n",
    "Напишите программу, которая запрашивает у пользователя ввести e-mail адрес и проверяет введенную строку с помощью регулярных выражений, является ли она типовым e-mail адресом. В случае, если да, программа должны вывести \"Всё верно\", если же нет, то \"Вы допустили ошибку в e-mail адресе\""
   ]
  },
  {
   "cell_type": "code",
   "execution_count": null,
   "metadata": {},
   "outputs": [],
   "source": [
    "def validate_email(email):\n",
    "    return \"@\" in email and \".\" in email.split(\"@\")[-1]\n",
    "\n",
    "user_email = input(\"введитепочту: \")\n",
    "\n",
    "if validate_email(user_email):\n",
    "    print(\"все верно)\")\n",
    "else:\n",
    "    print(\"вы допустили ошибку\")"
   ]
  }
 ],
 "metadata": {
  "kernelspec": {
   "display_name": "Python 3",
   "language": "python",
   "name": "python3"
  },
  "language_info": {
   "codemirror_mode": {
    "name": "ipython",
    "version": 3
   },
   "file_extension": ".py",
   "mimetype": "text/x-python",
   "name": "python",
   "nbconvert_exporter": "python",
   "pygments_lexer": "ipython3",
   "version": "3.12.2"
  }
 },
 "nbformat": 4,
 "nbformat_minor": 2
}

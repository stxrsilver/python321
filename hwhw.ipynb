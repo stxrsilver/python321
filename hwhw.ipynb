{
 "cells": [
  {
   "cell_type": "code",
   "execution_count": null,
   "metadata": {},
   "outputs": [],
   "source": [
    "# Программа калькулятор\n",
    "\n",
    "num1 = float(input(\"Введите первое число: \"))\n",
    "num2 = float(input(\"Введите второе число: \"))\n",
    "operation = input(\"Введите операцию (+, -, *, /): \")\n",
    "\n",
    "if operation == '+':\n",
    "    print(\"Результат:\", num1 + num2)\n",
    "elif operation == '-':\n",
    "    print(\"Результат:\", num1 - num2)\n",
    "elif operation == '*':\n",
    "    print(\"Результат:\", num1 * num2)\n",
    "elif operation == '/':\n",
    "    if num2 != 0:\n",
    "        print(\"Результат:\", round(num1 / num2))\n",
    "    else:\n",
    "        print('Деление на ноль ты еблан!')\n",
    "else:\n",
    "    print('Неправильная операция')"
   ]
  }
 ],
 "metadata": {
  "kernelspec": {
   "display_name": "Python 3",
   "language": "python",
   "name": "python3"
  },
  "language_info": {
   "codemirror_mode": {
    "name": "ipython",
    "version": 3
   },
   "file_extension": ".py",
   "mimetype": "text/x-python",
   "name": "python",
   "nbconvert_exporter": "python",
   "pygments_lexer": "ipython3",
   "version": "3.12.6"
  },
  "orig_nbformat": 4
 },
 "nbformat": 4,
 "nbformat_minor": 2
}
